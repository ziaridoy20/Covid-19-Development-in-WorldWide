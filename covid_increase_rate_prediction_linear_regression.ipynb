{
 "cells": [
  {
   "cell_type": "code",
   "execution_count": 51,
   "metadata": {},
   "outputs": [],
   "source": [
    "#############\n",
    "#############  Team Member :\n",
    "#############  Name : Md Ziauddin Ridoy\n",
    "#############  Matriculation Number : 220100676\n",
    "#############    "
   ]
  },
  {
   "cell_type": "code",
   "execution_count": 52,
   "metadata": {},
   "outputs": [],
   "source": [
    "import findspark\n",
    "findspark.init()\n",
    "\n",
    "import pyspark"
   ]
  },
  {
   "cell_type": "code",
   "execution_count": 53,
   "metadata": {},
   "outputs": [],
   "source": [
    "from pyspark.sql import SparkSession\n",
    "\n",
    "spark= SparkSession.builder.appName('Covid-19').getOrCreate()"
   ]
  },
  {
   "cell_type": "code",
   "execution_count": 54,
   "metadata": {},
   "outputs": [],
   "source": [
    "from pyspark.ml.regression import LinearRegression"
   ]
  },
  {
   "cell_type": "code",
   "execution_count": 55,
   "metadata": {},
   "outputs": [],
   "source": [
    "dataset=spark.read.csv(\"worldwide_june_july_csv.csv\",inferSchema=True,header=True)"
   ]
  },
  {
   "cell_type": "code",
   "execution_count": 56,
   "metadata": {},
   "outputs": [
    {
     "name": "stdout",
     "output_type": "stream",
     "text": [
      "+--------+---------+---------+------+-------------+\n",
      "|    Date|Confirmed|Recovered|Deaths|Increase rate|\n",
      "+--------+---------+---------+------+-------------+\n",
      "|13-06-20|  7755445|  3706353|430695|  1.759518594|\n",
      "|14-06-20|  7888575|  3777131|434041|  1.716600401|\n",
      "|15-06-20|  8010360|  3857338|437545|  1.543814948|\n",
      "|16-06-20|  8149939|  3955169|444334|  1.742480987|\n",
      "|17-06-20|  8325831|  4073955|449605|  2.158200202|\n",
      "|18-06-20|  8464706|  4155099|454614|  1.668001669|\n",
      "|19-06-20|  8645640|  4250107|460883|  2.137510742|\n",
      "|20-06-20|  8803904|  4365932|465151|  1.830564308|\n",
      "|21-06-20|  8934807|  4434628|469208|  1.486874459|\n",
      "|22-06-20|  9072666|  4526333|472779|  1.542943233|\n",
      "|23-06-20|  9238013|  4630391|478203|  1.822474232|\n",
      "|24-06-20|  9405649|  4746118|483377|  1.814632649|\n",
      "|25-06-20|  9583608|  4838921|489928|  1.892043813|\n",
      "|26-06-20|  9774609|  4945557|494773|  1.992996792|\n",
      "|27-06-20|  9952423|  5051864|499291|  1.819141819|\n",
      "|28-06-20| 10117641|  5140899|502450|  1.660078154|\n",
      "|29-06-20| 10273510|  5235813|506076|   1.54056662|\n",
      "|30-06-20| 10447879|  5353205|511268|  1.697268022|\n",
      "|01-07-20| 10664168|  5469134|516253|  2.070171372|\n",
      "|02-07-20| 10871926|  5754006|521361|  1.948187613|\n",
      "+--------+---------+---------+------+-------------+\n",
      "only showing top 20 rows\n",
      "\n"
     ]
    }
   ],
   "source": [
    "dataset.show()"
   ]
  },
  {
   "cell_type": "code",
   "execution_count": 57,
   "metadata": {},
   "outputs": [
    {
     "name": "stdout",
     "output_type": "stream",
     "text": [
      "root\n",
      " |-- Date: string (nullable = true)\n",
      " |-- Confirmed: integer (nullable = true)\n",
      " |-- Recovered: integer (nullable = true)\n",
      " |-- Deaths: integer (nullable = true)\n",
      " |-- Increase rate: double (nullable = true)\n",
      "\n"
     ]
    }
   ],
   "source": [
    "dataset.printSchema()"
   ]
  },
  {
   "cell_type": "code",
   "execution_count": 58,
   "metadata": {},
   "outputs": [],
   "source": [
    "from pyspark.ml.linalg import Vectors\n",
    "from pyspark.ml.feature import VectorAssembler"
   ]
  },
  {
   "cell_type": "code",
   "execution_count": 59,
   "metadata": {},
   "outputs": [],
   "source": [
    "featureassembler=VectorAssembler(inputCols=[\"Confirmed\", \"Recovered\", \"Deaths\"],outputCol=\"Independent Features\")"
   ]
  },
  {
   "cell_type": "code",
   "execution_count": 60,
   "metadata": {},
   "outputs": [],
   "source": [
    "output=featureassembler.transform(dataset)"
   ]
  },
  {
   "cell_type": "code",
   "execution_count": 61,
   "metadata": {},
   "outputs": [
    {
     "name": "stdout",
     "output_type": "stream",
     "text": [
      "+--------+---------+---------+------+-------------+--------------------+\n",
      "|    Date|Confirmed|Recovered|Deaths|Increase rate|Independent Features|\n",
      "+--------+---------+---------+------+-------------+--------------------+\n",
      "|13-06-20|  7755445|  3706353|430695|  1.759518594|[7755445.0,370635...|\n",
      "|14-06-20|  7888575|  3777131|434041|  1.716600401|[7888575.0,377713...|\n",
      "|15-06-20|  8010360|  3857338|437545|  1.543814948|[8010360.0,385733...|\n",
      "|16-06-20|  8149939|  3955169|444334|  1.742480987|[8149939.0,395516...|\n",
      "|17-06-20|  8325831|  4073955|449605|  2.158200202|[8325831.0,407395...|\n",
      "|18-06-20|  8464706|  4155099|454614|  1.668001669|[8464706.0,415509...|\n",
      "|19-06-20|  8645640|  4250107|460883|  2.137510742|[8645640.0,425010...|\n",
      "|20-06-20|  8803904|  4365932|465151|  1.830564308|[8803904.0,436593...|\n",
      "|21-06-20|  8934807|  4434628|469208|  1.486874459|[8934807.0,443462...|\n",
      "|22-06-20|  9072666|  4526333|472779|  1.542943233|[9072666.0,452633...|\n",
      "|23-06-20|  9238013|  4630391|478203|  1.822474232|[9238013.0,463039...|\n",
      "|24-06-20|  9405649|  4746118|483377|  1.814632649|[9405649.0,474611...|\n",
      "|25-06-20|  9583608|  4838921|489928|  1.892043813|[9583608.0,483892...|\n",
      "|26-06-20|  9774609|  4945557|494773|  1.992996792|[9774609.0,494555...|\n",
      "|27-06-20|  9952423|  5051864|499291|  1.819141819|[9952423.0,505186...|\n",
      "|28-06-20| 10117641|  5140899|502450|  1.660078154|[1.0117641E7,5140...|\n",
      "|29-06-20| 10273510|  5235813|506076|   1.54056662|[1.027351E7,52358...|\n",
      "|30-06-20| 10447879|  5353205|511268|  1.697268022|[1.0447879E7,5353...|\n",
      "|01-07-20| 10664168|  5469134|516253|  2.070171372|[1.0664168E7,5469...|\n",
      "|02-07-20| 10871926|  5754006|521361|  1.948187613|[1.0871926E7,5754...|\n",
      "+--------+---------+---------+------+-------------+--------------------+\n",
      "only showing top 20 rows\n",
      "\n"
     ]
    }
   ],
   "source": [
    "output.show()"
   ]
  },
  {
   "cell_type": "code",
   "execution_count": 62,
   "metadata": {},
   "outputs": [
    {
     "name": "stdout",
     "output_type": "stream",
     "text": [
      "+--------------------+\n",
      "|Independent Features|\n",
      "+--------------------+\n",
      "|[7755445.0,370635...|\n",
      "|[7888575.0,377713...|\n",
      "|[8010360.0,385733...|\n",
      "|[8149939.0,395516...|\n",
      "|[8325831.0,407395...|\n",
      "+--------------------+\n",
      "only showing top 5 rows\n",
      "\n"
     ]
    }
   ],
   "source": [
    "output.select(\"Independent Features\").show(5)"
   ]
  },
  {
   "cell_type": "code",
   "execution_count": 63,
   "metadata": {},
   "outputs": [
    {
     "data": {
      "text/plain": [
       "['Date',\n",
       " 'Confirmed',\n",
       " 'Recovered',\n",
       " 'Deaths',\n",
       " 'Increase rate',\n",
       " 'Independent Features']"
      ]
     },
     "execution_count": 63,
     "metadata": {},
     "output_type": "execute_result"
    }
   ],
   "source": [
    "output.columns"
   ]
  },
  {
   "cell_type": "code",
   "execution_count": 64,
   "metadata": {},
   "outputs": [],
   "source": [
    "finalized_data=output.select(\"Independent Features\",\"Increase rate\")"
   ]
  },
  {
   "cell_type": "code",
   "execution_count": 65,
   "metadata": {},
   "outputs": [
    {
     "name": "stdout",
     "output_type": "stream",
     "text": [
      "+--------------------+-------------+\n",
      "|Independent Features|Increase rate|\n",
      "+--------------------+-------------+\n",
      "|[7755445.0,370635...|  1.759518594|\n",
      "|[7888575.0,377713...|  1.716600401|\n",
      "|[8010360.0,385733...|  1.543814948|\n",
      "|[8149939.0,395516...|  1.742480987|\n",
      "|[8325831.0,407395...|  2.158200202|\n",
      "|[8464706.0,415509...|  1.668001669|\n",
      "|[8645640.0,425010...|  2.137510742|\n",
      "|[8803904.0,436593...|  1.830564308|\n",
      "|[8934807.0,443462...|  1.486874459|\n",
      "|[9072666.0,452633...|  1.542943233|\n",
      "|[9238013.0,463039...|  1.822474232|\n",
      "|[9405649.0,474611...|  1.814632649|\n",
      "|[9583608.0,483892...|  1.892043813|\n",
      "|[9774609.0,494555...|  1.992996792|\n",
      "|[9952423.0,505186...|  1.819141819|\n",
      "|[1.0117641E7,5140...|  1.660078154|\n",
      "|[1.027351E7,52358...|   1.54056662|\n",
      "|[1.0447879E7,5353...|  1.697268022|\n",
      "|[1.0664168E7,5469...|  2.070171372|\n",
      "|[1.0871926E7,5754...|  1.948187613|\n",
      "+--------------------+-------------+\n",
      "only showing top 20 rows\n",
      "\n"
     ]
    }
   ],
   "source": [
    "finalized_data.show()"
   ]
  },
  {
   "cell_type": "code",
   "execution_count": 66,
   "metadata": {},
   "outputs": [],
   "source": [
    "train_data,test_data=finalized_data.randomSplit([0.70,0.30])"
   ]
  },
  {
   "cell_type": "code",
   "execution_count": 67,
   "metadata": {},
   "outputs": [],
   "source": [
    "regressor=LinearRegression(featuresCol='Independent Features', labelCol='Increase rate')\n",
    "regressor=regressor.fit(train_data)"
   ]
  },
  {
   "cell_type": "code",
   "execution_count": 68,
   "metadata": {},
   "outputs": [
    {
     "data": {
      "text/plain": [
       "DenseVector([-0.0, 0.0, 0.0])"
      ]
     },
     "execution_count": 68,
     "metadata": {},
     "output_type": "execute_result"
    }
   ],
   "source": [
    "#The Coefficients\n",
    "regressor.coefficients\n"
   ]
  },
  {
   "cell_type": "code",
   "execution_count": 69,
   "metadata": {},
   "outputs": [
    {
     "data": {
      "text/plain": [
       "-1.494137125244977"
      ]
     },
     "execution_count": 69,
     "metadata": {},
     "output_type": "execute_result"
    }
   ],
   "source": [
    "#The intercept\n",
    "regressor.intercept"
   ]
  },
  {
   "cell_type": "code",
   "execution_count": 70,
   "metadata": {},
   "outputs": [],
   "source": [
    "pred_results=regressor.evaluate(test_data)"
   ]
  },
  {
   "cell_type": "code",
   "execution_count": 71,
   "metadata": {},
   "outputs": [
    {
     "name": "stdout",
     "output_type": "stream",
     "text": [
      "+--------------------+-------------+------------------+\n",
      "|Independent Features|Increase rate|        prediction|\n",
      "+--------------------+-------------+------------------+\n",
      "|[7888575.0,377713...|  1.716600401|1.7088819793793923|\n",
      "|[8464706.0,415509...|  1.668001669|1.7849395898548146|\n",
      "|[8645640.0,425010...|  2.137510742|1.8035093662015196|\n",
      "|[9072666.0,452633...|  1.542943233|1.8087806981863352|\n",
      "|[9774609.0,494555...|  1.992996792|1.8507897849940431|\n",
      "|[9952423.0,505186...|  1.819141819|1.8455109907481442|\n",
      "|[1.027351E7,52358...|   1.54056662|1.8143927625913892|\n",
      "|[1.0447879E7,5353...|  1.697268022|1.8220719290188205|\n",
      "|[1.0871926E7,5754...|  1.948187613|1.8141786960927704|\n",
      "|[1.1076086E7,5863...|  1.877864143|1.8049162597245696|\n",
      "|[1.1620096E7,6302...|  1.466094363|1.7673083921273494|\n",
      "|[1.310329E7,72573...|  1.494404841| 1.689342513222485|\n",
      "+--------------------+-------------+------------------+\n",
      "\n"
     ]
    }
   ],
   "source": [
    "pred_results.predictions.show()"
   ]
  },
  {
   "cell_type": "code",
   "execution_count": 72,
   "metadata": {},
   "outputs": [
    {
     "data": {
      "text/plain": [
       "0.1600222492722284"
      ]
     },
     "execution_count": 72,
     "metadata": {},
     "output_type": "execute_result"
    }
   ],
   "source": [
    "#Calculate RMSE (Root Mean Square Error)\n",
    "regressor.summary.rootMeanSquaredError"
   ]
  },
  {
   "cell_type": "code",
   "execution_count": 73,
   "metadata": {},
   "outputs": [
    {
     "data": {
      "text/plain": [
       "0.0663173075302339"
      ]
     },
     "execution_count": 73,
     "metadata": {},
     "output_type": "execute_result"
    }
   ],
   "source": [
    "#Calculate r2 (R squared)\n",
    "regressor.summary.r2"
   ]
  },
  {
   "cell_type": "code",
   "execution_count": 74,
   "metadata": {},
   "outputs": [
    {
     "name": "stdout",
     "output_type": "stream",
     "text": [
      "RMSE: 0.196\n",
      "MSE: 0.038\n",
      "MAE: 0.166\n",
      "r2: 0.103\n"
     ]
    }
   ],
   "source": [
    "from pyspark.ml.evaluation import RegressionEvaluator\n",
    "RegessorEval = RegressionEvaluator(labelCol=\"Increase rate\", predictionCol=\"prediction\", metricName=\"rmse\")\n",
    "\n",
    "# Root Mean Square Error\n",
    "rmse = RegessorEval.evaluate(pred_results.predictions)\n",
    "print(\"RMSE: %.3f\" % rmse)\n",
    "\n",
    "# Mean Square Error\n",
    "mse = RegessorEval.evaluate(pred_results.predictions, {RegessorEval.metricName: \"mse\"})\n",
    "print(\"MSE: %.3f\" % mse)\n",
    "\n",
    "# Mean Absolute Error\n",
    "mae = RegessorEval.evaluate(pred_results.predictions, {RegessorEval.metricName: \"mae\"})\n",
    "print(\"MAE: %.3f\" % mae)\n",
    "\n",
    "# r2 - coefficient of determination\n",
    "r2 = RegessorEval.evaluate(pred_results.predictions, {RegessorEval.metricName: \"r2\"})\n",
    "print(\"r2: %.3f\" %r2)"
   ]
  },
  {
   "cell_type": "code",
   "execution_count": 49,
   "metadata": {},
   "outputs": [],
   "source": [
    "spark.stop()"
   ]
  }
 ],
 "metadata": {
  "kernelspec": {
   "display_name": "Python 3",
   "language": "python",
   "name": "python3"
  },
  "language_info": {
   "codemirror_mode": {
    "name": "ipython",
    "version": 3
   },
   "file_extension": ".py",
   "mimetype": "text/x-python",
   "name": "python",
   "nbconvert_exporter": "python",
   "pygments_lexer": "ipython3",
   "version": "3.7.6"
  }
 },
 "nbformat": 4,
 "nbformat_minor": 4
}
